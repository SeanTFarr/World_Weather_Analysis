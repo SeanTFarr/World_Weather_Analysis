{
 "cells": [
  {
   "cell_type": "code",
   "execution_count": 1,
   "id": "d48bac8d",
   "metadata": {},
   "outputs": [],
   "source": [
    "#Import the random module\n",
    "import random"
   ]
  },
  {
   "cell_type": "code",
   "execution_count": 2,
   "id": "3e9f6a8b",
   "metadata": {},
   "outputs": [
    {
     "data": {
      "text/plain": [
       "-80"
      ]
     },
     "execution_count": 2,
     "metadata": {},
     "output_type": "execute_result"
    }
   ],
   "source": [
    "#The randint() function\n",
    "random.randint(-90, 90)"
   ]
  },
  {
   "cell_type": "code",
   "execution_count": 3,
   "id": "d0825729",
   "metadata": {},
   "outputs": [
    {
     "data": {
      "text/plain": [
       "0.7556592786337133"
      ]
     },
     "execution_count": 3,
     "metadata": {},
     "output_type": "execute_result"
    }
   ],
   "source": [
    "#The random()function\n",
    "random.random()"
   ]
  },
  {
   "cell_type": "code",
   "execution_count": 4,
   "id": "1dccbc13",
   "metadata": {},
   "outputs": [
    {
     "data": {
      "text/plain": [
       "56.94747399783117"
      ]
     },
     "execution_count": 4,
     "metadata": {},
     "output_type": "execute_result"
    }
   ],
   "source": [
    "#Combining random() and randint()functions\n",
    "random_number = random.randint(-90, 90) + random.random()\n",
    "random_number"
   ]
  },
  {
   "cell_type": "code",
   "execution_count": 9,
   "id": "dc7cc0e1",
   "metadata": {},
   "outputs": [
    {
     "data": {
      "text/plain": [
       "[23.466417546707458,\n",
       " 84.4851597589817,\n",
       " -16.08910178171296,\n",
       " 42.29522583680048,\n",
       " 45.48441755446141,\n",
       " 84.68280068473605,\n",
       " -35.229208929039764,\n",
       " -35.127909644379436,\n",
       " -27.45354606132387,\n",
       " -40.96327234004621]"
      ]
     },
     "execution_count": 9,
     "metadata": {},
     "output_type": "execute_result"
    }
   ],
   "source": [
    "# To generate 10 random floating-point decimal latitudes between -90 and 89\n",
    "x = 1\n",
    "latitudes = []\n",
    "while x < 11:\n",
    "    random_lat = random.randint(-90, 89) + random.random()\n",
    "    latitudes.append(random_lat)\n",
    "    x += 1\n",
    "# Get output    \n",
    "latitudes"
   ]
  },
  {
   "cell_type": "code",
   "execution_count": 10,
   "id": "4ed1692b",
   "metadata": {},
   "outputs": [
    {
     "data": {
      "text/plain": [
       "-39"
      ]
     },
     "execution_count": 10,
     "metadata": {},
     "output_type": "execute_result"
    }
   ],
   "source": [
    "#The randrange()function\n",
    "random.randrange(-90, 90, step=3)"
   ]
  },
  {
   "cell_type": "code",
   "execution_count": 11,
   "id": "1c96996f",
   "metadata": {},
   "outputs": [
    {
     "data": {
      "text/plain": [
       "[30.734830642539794,\n",
       " -65.94872658830614,\n",
       " -8.983663577277797,\n",
       " -38.05952642736001,\n",
       " -26.190047649100016,\n",
       " 60.78084440148073,\n",
       " -29.81571677715494,\n",
       " 57.12143088961147,\n",
       " -41.97833997842321,\n",
       " 57.28240430915127]"
      ]
     },
     "execution_count": 11,
     "metadata": {},
     "output_type": "execute_result"
    }
   ],
   "source": [
    "# To generate 10 random floating-point decimal latitudes between -90 and 89, uaing randrange()\n",
    "x = 1\n",
    "latitudes = []\n",
    "while x < 11:\n",
    "    random_lat = random.randrange(-90, 89, step=3) + random.random()\n",
    "    latitudes.append(random_lat)\n",
    "    x += 1\n",
    "# Get output    \n",
    "latitudes"
   ]
  },
  {
   "cell_type": "code",
   "execution_count": 12,
   "id": "a9ac41ed",
   "metadata": {},
   "outputs": [
    {
     "data": {
      "text/plain": [
       "-24.8256144432775"
      ]
     },
     "execution_count": 12,
     "metadata": {},
     "output_type": "execute_result"
    }
   ],
   "source": [
    "#The uniform() function\n",
    "random.uniform(-90, 90)"
   ]
  },
  {
   "cell_type": "code",
   "execution_count": 13,
   "id": "11cc328a",
   "metadata": {},
   "outputs": [],
   "source": [
    "# Import the NumPy module.\n",
    "import numpy as np"
   ]
  },
  {
   "cell_type": "code",
   "execution_count": 15,
   "id": "9a5002dd",
   "metadata": {},
   "outputs": [
    {
     "data": {
      "text/plain": [
       "-59.51042097946183"
      ]
     },
     "execution_count": 15,
     "metadata": {},
     "output_type": "execute_result"
    }
   ],
   "source": [
    "# using the numpy random.uniform()function\n",
    "np.random.uniform(-90.000, 90.000)"
   ]
  },
  {
   "cell_type": "code",
   "execution_count": 16,
   "id": "094ce365",
   "metadata": {},
   "outputs": [
    {
     "data": {
      "text/plain": [
       "array([-34.61955036, -56.09801715,  55.14894009,  37.65131177,\n",
       "       -24.91802111, -89.19491256,  47.0065695 ,  17.98542183,\n",
       "       -12.65184174,  -3.18680541, -68.62487916, -61.06643264,\n",
       "       -50.40513603,  -2.15381946,  -8.25359467,  66.91815794,\n",
       "         3.66280147, -28.4012502 ,  38.14349251,  67.19876658,\n",
       "       -50.01397102, -47.64071863, -39.51362692,  81.2839193 ,\n",
       "        12.24004564,  62.33006813, -78.53595046,  45.49688481,\n",
       "       -31.14071161,  41.19955357,  39.88176179,  27.77785448,\n",
       "       -36.82038141,  -0.93017825, -25.84879982, -82.92161302,\n",
       "        -4.28780197,  52.42850609, -12.08087298,  74.67767773,\n",
       "       -53.33889697, -53.17297702,  59.16305269, -78.70806107,\n",
       "       -40.39237166,  27.72185964, -28.64567136,  -9.7478734 ,\n",
       "        42.02848179, -52.80729923])"
      ]
     },
     "execution_count": 16,
     "metadata": {},
     "output_type": "execute_result"
    }
   ],
   "source": [
    "#adding size parameter to get the specified number in an array\n",
    "np.random.uniform(-90.000, 90.000, size=50)"
   ]
  },
  {
   "cell_type": "code",
   "execution_count": 17,
   "id": "2b9b5631",
   "metadata": {},
   "outputs": [],
   "source": [
    "# Import timeit.\n",
    "import timeit"
   ]
  },
  {
   "cell_type": "code",
   "execution_count": 19,
   "id": "8c129ed8",
   "metadata": {},
   "outputs": [
    {
     "name": "stdout",
     "output_type": "stream",
     "text": [
      "12.3 µs ± 446 ns per loop (mean ± std. dev. of 7 runs, 100000 loops each)\n"
     ]
    }
   ],
   "source": [
    "#adding %timeit to get the run time of the code\n",
    "%timeit np.random.uniform(-90.000, 90.000, size=1500)"
   ]
  },
  {
   "cell_type": "code",
   "execution_count": 20,
   "id": "b8fe418d",
   "metadata": {},
   "outputs": [
    {
     "name": "stdout",
     "output_type": "stream",
     "text": [
      "1.43 ms ± 77.7 µs per loop (mean ± std. dev. of 7 runs, 1000 loops each)\n"
     ]
    }
   ],
   "source": [
    "#checking runtime with while loop, same number specified\n",
    "def latitudes(size):\n",
    "    latitudes = []\n",
    "    x = 0\n",
    "    while x < (size):\n",
    "        random_lat = random.randint(-90, 90) + random.random()\n",
    "        latitudes.append(random_lat)\n",
    "        x += 1\n",
    "    return latitudes\n",
    "# Call the function with 1500.\n",
    "%timeit latitudes(1500)"
   ]
  },
  {
   "cell_type": "code",
   "execution_count": 22,
   "id": "76728490",
   "metadata": {},
   "outputs": [
    {
     "name": "stdout",
     "output_type": "stream",
     "text": [
      "13.2 ns ± 0.402 ns per loop (mean ± std. dev. of 7 runs, 100000000 loops each)\n"
     ]
    }
   ],
   "source": [
    "x = 0\n",
    "latitudes = []\n",
    "while x < 1501:\n",
    "    random_lat = random.randint(-90, 90) + random.random()\n",
    "    latitudes.append(random_lat)\n",
    "    x += 1\n",
    "\n",
    "# Call the function with 1500.\n",
    "%timeit latitudes"
   ]
  }
 ],
 "metadata": {
  "kernelspec": {
   "display_name": "PythonData",
   "language": "python",
   "name": "pythondata"
  },
  "language_info": {
   "codemirror_mode": {
    "name": "ipython",
    "version": 3
   },
   "file_extension": ".py",
   "mimetype": "text/x-python",
   "name": "python",
   "nbconvert_exporter": "python",
   "pygments_lexer": "ipython3",
   "version": "3.7.10"
  }
 },
 "nbformat": 4,
 "nbformat_minor": 5
}
